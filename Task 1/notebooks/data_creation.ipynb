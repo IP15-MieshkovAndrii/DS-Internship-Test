{
 "cells": [
  {
   "cell_type": "markdown",
   "metadata": {},
   "source": [
    "# Dataset Creation for Mountain Name NER\n",
    "\n",
    "This notebook creates a dataset for Named Entity Recognition (NER) with mountain names labeled in IOB format. It generates sentences mentioning famous mountains, processes the sentences, and labels the mountain names accordingly.\n",
    "\n",
    "The goal is to create a labeled dataset for training an NER model."
   ]
  },
  {
   "cell_type": "markdown",
   "metadata": {},
   "source": [
    "1. Import Required Libraries:"
   ]
  },
  {
   "cell_type": "code",
   "execution_count": 11,
   "metadata": {},
   "outputs": [],
   "source": [
    "import re\n",
    "import csv\n",
    "import string"
   ]
  },
  {
   "cell_type": "markdown",
   "metadata": {},
   "source": [
    "2. List of Famous Mountain Names:"
   ]
  },
  {
   "cell_type": "code",
   "execution_count": 12,
   "metadata": {},
   "outputs": [],
   "source": [
    "mountain_names = [\n",
    "    \"Mount Everest\", \"Kilimanjaro\", \"The Andes\", \"Mount Fuji\", \"K2\", \"Denali\", \n",
    "    \"The Matterhorn\", \"Mount Elbrus\", \"The Rocky Mountains\", \"The Alps\", \n",
    "    \"Aconcagua\", \"Mont Blanc\", \"The Pyrenees\", \"Mount Ararat\", \"The Sierra Nevada\", \n",
    "    \"Mount Kenya\", \"Mount Kosciuszko\", \"The Dolomites\", \"Mount Rainier\", \n",
    "    \"The Drakensberg Mountains\", \"Mount St. Helens\", \"The Hindu Kush\", \n",
    "    \"Mount Olympus\", \"Mount Cook\", \"The Atlas Mountains\", \"Mount Shasta\", \n",
    "    \"The Ural Mountains\", \"The Blue Mountains\", \"Mount Hood\", \"The Caucasus Mountains\", \n",
    "    \"The Karakoram Range\", \"Mauna Kea\", \"The Alborz Mountains\", \"The Sierra Madre\", \n",
    "    \"Mount McKinley\", \"The Brooks Range\", \"The Carpathian Mountains\", \"Mount Aso\", \n",
    "    \"The Western Ghats\", \"Mount Washington\", \"Mount Sinai\", \"The Jura Mountains\", \n",
    "    \"Mount Baker\", \"The Rwenzori Mountains\", \"The San Juan Mountains\", \"Mount Whitney\", \n",
    "    \"The White Mountains\", \"Mount Meru\", \"The Pindus Mountains\", \"Mount Toubkal\", \n",
    "    \"The Tatras Mountains\", \"Mount Tambora\", \"The Scandinavian Mountains\", \n",
    "    \"Mount Vesuvius\", \"The Vosges Mountains\", \"Mount Erebus\", \"The Taurus Mountains\", \n",
    "    \"Mount Agung\", \"The Rhodope Mountains\", \"The Khangchendzonga Range\", \"The Grampian Mountains\", \n",
    "    \"Mount Cameroon\", \"The Pennine Alps\", \"The Jotunheimen Mountains\", \"The Adirondack Mountains\", \n",
    "    \"Mount Pico\", \"The Great Dividing Range\", \"Mount Rinjani\", \"The Dinaric Alps\", \n",
    "    \"Mount Pelée\", \"The Pamirs\", \"The Apennines\", \"Mount Hermon\", \"The Harz Mountains\", \n",
    "    \"Mount Athos\", \"Mount Nimba\", \"The Zagros Mountains\", \"The Pennines\", \"Mount Vinson\", \n",
    "    \"The Aïr Mountains\", \"Mount Parnassus\", \"The Balkan Mountains\", \"Mount Huascarán\", \n",
    "    \"The Saint Elias Mountains\", \"The Tien Shan Range\", \"Mount Ararat\", \"Mount Damavand\", \n",
    "    \"Mount Kinabalu\", \"The Tatra Mountains\", \"Mount Kailash\", \"Mount Shasta\", \n",
    "    \"Mount Olympus\", \"The Picos de Europa\", \"Mount Etna\", \"Mount Aconcagua\"\n",
    "]"
   ]
  },
  {
   "cell_type": "markdown",
   "metadata": {},
   "source": [
    "3. Sample sentences mentioning mountains  "
   ]
  },
  {
   "cell_type": "code",
   "execution_count": 13,
   "metadata": {},
   "outputs": [],
   "source": [
    "sentences = [\n",
    "    \"Mount Everest is the highest mountain in the world, located in the Himalayas\", \"Kilimanjaro is known for its snow-capped peak despite being near the equator\", \"The Andes stretch along the western coast of South America, creating a dramatic landscape\", \"Mount Fuji is a symbol of Japan and one of the most photographed mountains\", \"K2 is notorious for its difficulty and deadly reputation among mountaineers\", \"Denali, in Alaska, offers stunning views and is the tallest peak in North America\", \"The Matterhorn is famous for its pyramid shape and attracts climbers from around the world\", \"Mount Elbrus, located in Russia, is the highest mountain in Europe\", \"The Rocky Mountains offer scenic beauty and are a popular destination for outdoor activities in North America\", \"The Alps are home to picturesque villages and world-class ski resorts\", \"Aconcagua, the tallest mountain in South America, is a magnet for serious climbers\", \"Mont Blanc straddles the border between France and Italy and is a popular mountaineering spot\", \"The Pyrenees form a natural border between France and Spain and are known for their rugged beauty\", \"Mount Ararat in Turkey is believed by some to be the resting place of Noahs Ark\", \"The Sierra Nevada range in California includes the famous Yosemite National Park\", \"Mount Kenya is Africas second-highest mountain and offers challenging trekking routes\", \"Mount Kosciuszko is the highest point in Australia and a popular hiking destination\", \"The Dolomites in Italy are known for their jagged peaks and stunning landscapes\", \"Mount Rainier dominates the skyline near Seattle and is one of the most glaciated peaks in the United States\", \"The Drakensberg Mountains in South Africa are famous for their dramatic cliffs and lush valleys\", \"Mount St. Helens erupted in 1980, dramatically altering the landscape of Washington state\", \"The Hindu Kush mountains are known for their harsh terrain and high altitudes in Central Asia\", \"Mount Olympus in Greece is steeped in mythology as the home of the ancient Greek gods\", \"Mount Cook, also known as Aoraki, is the tallest mountain in New Zealand\", \"The Atlas Mountains run across North Africa and are home to diverse cultures and landscapes\", \"Mount Shasta in California is revered for its spiritual significance and towering presence\", \"The Ural Mountains stretch through Russia and serve as the natural boundary between Europe and Asia\", \"The Blue Mountains in Australia are known for their stunning blue-hued eucalyptus forests\", \"Mount Hood in Oregon is a popular spot for skiing and snowboarding\", \"The Caucasus Mountains in Eastern Europe are home to Mount Elbrus, the continents highest peak\", \"The Karakoram Range, which includes K2, is one of the most rugged and remote mountain ranges in the world\", \"Mauna Kea in Hawaii, if measured from its oceanic base, is the tallest mountain on Earth\", \"The Alborz Mountains in Iran are home to Mount Damavand, the countrys highest peak\", \"The Sierra Madre in Mexico is a vast mountain range with diverse ecosystems\", \"Mount McKinley, now called Denali, is revered by Alaskas indigenous peoples\", \"The Brooks Range in Alaska is one of the most remote and untouched wilderness areas in the United States\", \"The Carpathian Mountains stretch across Central and Eastern Europe, harboring rich biodiversity\", \"Mount Aso in Japan is one of the worlds largest active volcanoes\", \"The Western Ghats in India are a UNESCO World Heritage Site known for their biodiversity\", \"Mount Washington in New Hampshire is famous for having some of the most extreme weather conditions on Earth\", \"Mount Sinai in Egypt holds religious significance as the place where Moses received the Ten Commandments\", \"The Jura Mountains in Switzerland are known for their lush forests and limestone cliffs\", \"Mount Baker in Washington state is one of the snowiest places on the planet\", \"The Rwenzori Mountains in Uganda are often referred to as the Mountains of the Moon\", \"The San Juan Mountains in Colorado are famous for their rugged terrain and beautiful wildflower meadows\", \"Mount Whitney, the tallest peak in the contiguous United States, offers challenging hikes in Californias Sierra Nevada\", \"The White Mountains in New Hampshire are renowned for their stunning autumn foliage\", \"Mount Meru in Tanzania is an often-overlooked climb next to the more famous Kilimanjaro\", \"The Pindus Mountains in Greece offer dramatic landscapes and ancient monasteries\", \"Mount Toubkal, the highest peak in North Africa, rises dramatically above the Atlas Mountains\", \"The Tatras Mountains, located between Poland and Slovakia, are known for their alpine beauty and steep peaks\", \"Mount Tambora in Indonesia is famous for its 1815 eruption, which caused global climate anomalies\", \"The Scandinavian Mountains stretch through Norway and Sweden, creating stunning fjords and glaciers\", \"Mount Vesuvius near Naples is one of the worlds most famous active volcanoes, known for destroying Pompeii\", \"The Vosges Mountains in France are known for their dense forests and peaceful hiking trails\", \"Mount Erebus in Antarctica is one of the southernmost active volcanoes on Earth\", \"The Taurus Mountains in Turkey are a rugged range that has been home to many ancient civilizations\", \"Mount Agung in Bali is a sacred volcano that regularly erupts\", \"The Rhodope Mountains in Bulgaria are known for their picturesque landscapes and rich folklore\", \"The Khangchendzonga Range in India is home to the worlds third-highest peak, Kangchenjunga\", \"The Grampian Mountains in Scotland include Ben Nevis, the highest point in the British Isles\", \"Mount Cameroon is an active volcano and the highest peak in West Africa\", \"The Pennine Alps straddle the border between Switzerland and Italy, offering incredible views\", \"The Jotunheimen Mountains in Norway are home to some of the countrys tallest peaks\", \"The Adirondack Mountains in New York are famous for their stunning fall foliage\", \"Mount Pico, located on the Azores islands, is Portugals highest mountain\", \"The Great Dividing Range runs along Australias east coast, separating the coastal regions from the outback\", \"Mount Rinjani in Indonesia is a popular trekking destination with an active volcano\", \"The Dinaric Alps in the Balkans are known for their karst landscapes and crystal-clear rivers\", \"Mount Pelée in Martinique is famous for its deadly 1902 eruption\", \"The Pamirs in Central Asia are known as the Roof of the World for their high plateaus and towering peaks\", \"The Apennines run down the spine of Italy, offering stunning views and rich history\", \"Mount Hermon, on the border between Syria and Lebanon, is often snow-capped and serves as a ski resort\", \"The Drakensberg Mountains are a UNESCO World Heritage Site and provide incredible hiking opportunities in South Africa\", \"The Harz Mountains in Germany are steeped in history and folklore, with dense forests covering the landscape\", \"Mount Athos in Greece is a monastic community and sacred place, accessible only to men\", \"Mount Nimba, spanning the borders of Guinea, Liberia, and Côte dIvoire, is a biodiversity hotspot\", \"The Zagros Mountains in Iran are home to ancient settlements and provide breathtaking landscapes\", \"The Pennines in England are often called the Backbone of England and offer rolling hills and moorlands\", \"Mount Vinson is the highest point in Antarctica and one of the most remote places on Earth\", \"The Hindu Kush mountains, running through Afghanistan, are known for their harsh terrain and stunning beauty\", \"The Aïr Mountains in Niger rise dramatically out of the Sahara Desert\", \"Mount Parnassus in Greece is rich in history and mythology, once sacred to the god Apollo\", \"The Balkan Mountains stretch across Bulgaria, offering picturesque views and ancient fortresses\", \"Mount Huascarán in Peru is the highest peak in the tropical Andes\", \"The Saint Elias Mountains, straddling Alaska and Canada, are known for their glaciers and rugged terrain\", \"The Tien Shan range in Central Asia contains some of the worlds largest glaciers\", \"Mount Ararat is the tallest peak in Turkey and holds deep significance in both history and mythology\", \"Mount Damavand in Iran is a potentially active volcano and the highest peak in the Middle East\", \"Mount Kinabalu in Malaysia is the tallest mountain in Southeast Asia and a UNESCO World Heritage Site\", \"The Tatra Mountains form the natural border between Poland and Slovakia, known for their steep cliffs and deep valleys\", \"Mount Kailash in Tibet is considered sacred by Hindus, Buddhists, and Jains alike\", \"Mount Shasta is one of California’s most prominent peaks, believed by some to be a mystical energy center\", \"Mount Olympus in Cyprus, although not as tall as its Greek counterpart, offers scenic views of the island\", \"The Picos de Europa in northern Spain are known for their jagged limestone peaks\", \"Mount Etna in Sicily is one of the most active volcanoes in the world\", \"Mount Aconcagua, the highest peak outside of Asia, is a challenging climb in Argentinas Andes\"\n",
    "]"
   ]
  },
  {
   "cell_type": "markdown",
   "metadata": {},
   "source": [
    "4. Function to Label Mountains in IOB Format:"
   ]
  },
  {
   "cell_type": "code",
   "execution_count": 14,
   "metadata": {},
   "outputs": [],
   "source": [
    "def label_sentence(sentence, mountain_names):\n",
    "\n",
    "    labeled_sentence = []\n",
    "    words = sentence.split()\n",
    "    \n",
    "    # Iterate through each word in the sentence\n",
    "    i = 0\n",
    "    while i < len(words):\n",
    "        word = words[i]\n",
    "        tagged = False\n",
    "        \n",
    "        # Remove punctuation from the word\n",
    "        word = word.strip(string.punctuation)\n",
    "        \n",
    "        for mountain in mountain_names:\n",
    "            # Check if the clean word matches a mountain name (without punctuation)\n",
    "            if mountain in sentence:\n",
    "                # Split mountain into components (e.g., \"Mount Everest\" -> [\"Mount\", \"Everest\"])\n",
    "                mountain_words = mountain.split()\n",
    "                \n",
    "                # Check if the current sequence matches the mountain name\n",
    "                if ' '.join(words[i:i+len(mountain_words)]).strip(string.punctuation) == mountain:\n",
    "                    labeled_sentence.append((mountain_words[0], \"B-MOUNTAIN\"))\n",
    "                    for mw in mountain_words[1:]:\n",
    "                        labeled_sentence.append((mw, \"I-MOUNTAIN\"))\n",
    "                    tagged = True\n",
    "                    # Skip the rest of the mountain name\n",
    "                    i += len(mountain_words) - 1\n",
    "                    break\n",
    "        \n",
    "        if not tagged:\n",
    "            labeled_sentence.append((word, \"O\"))\n",
    "        \n",
    "        i += 1\n",
    "    \n",
    "    return labeled_sentence\n"
   ]
  },
  {
   "cell_type": "markdown",
   "metadata": {},
   "source": [
    "5. Create Dataset:"
   ]
  },
  {
   "cell_type": "code",
   "execution_count": 15,
   "metadata": {},
   "outputs": [
    {
     "name": "stdout",
     "output_type": "stream",
     "text": [
      "Labeled dataset saved to labeled_mountain_dataset.csv\n"
     ]
    }
   ],
   "source": [
    "labeled_data = []\n",
    "for sentence in sentences:\n",
    "    labeled_sentence = label_sentence(sentence, mountain_names)\n",
    "    labeled_data.append(labeled_sentence)\n",
    "\n",
    "output_file = \"labeled_mountain_dataset.csv\"\n",
    "with open(output_file, mode='w', newline='', encoding='utf-8') as f:\n",
    "    writer = csv.writer(f)\n",
    "    writer.writerow([\"Word\", \"Tag\"])  # CSV header\n",
    "    \n",
    "    for sentence in labeled_data:\n",
    "        for word, tag in sentence:\n",
    "            writer.writerow([word, tag])\n",
    "        writer.writerow([float(\"nan\"), float(\"nan\")])  # Blank row between sentences\n",
    "\n",
    "print(f\"Labeled dataset saved to {output_file}\")"
   ]
  }
 ],
 "metadata": {
  "kernelspec": {
   "display_name": "Python 3",
   "language": "python",
   "name": "python3"
  },
  "language_info": {
   "codemirror_mode": {
    "name": "ipython",
    "version": 3
   },
   "file_extension": ".py",
   "mimetype": "text/x-python",
   "name": "python",
   "nbconvert_exporter": "python",
   "pygments_lexer": "ipython3",
   "version": "3.12.3"
  }
 },
 "nbformat": 4,
 "nbformat_minor": 2
}
