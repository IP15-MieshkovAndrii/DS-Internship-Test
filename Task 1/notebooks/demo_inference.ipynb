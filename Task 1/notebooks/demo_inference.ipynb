{
 "cells": [
  {
   "cell_type": "markdown",
   "metadata": {},
   "source": [
    "### Import necessary libraries\n"
   ]
  },
  {
   "cell_type": "code",
   "execution_count": 42,
   "metadata": {},
   "outputs": [],
   "source": [
    "from transformers import BertTokenizer, BertForTokenClassification, AdamW\n",
    "from torch.utils.data import TensorDataset, DataLoader, random_split \n",
    "from tqdm import tqdm \n",
    "import torch\n",
    "import pandas as pd"
   ]
  },
  {
   "cell_type": "markdown",
   "metadata": {},
   "source": [
    "### Assuming a predefined set of entity types"
   ]
  },
  {
   "cell_type": "code",
   "execution_count": 43,
   "metadata": {},
   "outputs": [],
   "source": [
    "entity_types = [\"O\", \"B-MOUNTAIN\", \"I-MOUNTAIN\"]"
   ]
  },
  {
   "cell_type": "markdown",
   "metadata": {},
   "source": [
    "### Set num_labels"
   ]
  },
  {
   "cell_type": "code",
   "execution_count": 44,
   "metadata": {},
   "outputs": [],
   "source": [
    "num_labels = len(entity_types)"
   ]
  },
  {
   "cell_type": "markdown",
   "metadata": {},
   "source": [
    "### Load pre-trained BERT model and tokenizer"
   ]
  },
  {
   "cell_type": "code",
   "execution_count": 45,
   "metadata": {},
   "outputs": [
    {
     "name": "stderr",
     "output_type": "stream",
     "text": [
      "Some weights of BertForTokenClassification were not initialized from the model checkpoint at bert-base-uncased and are newly initialized: ['classifier.bias', 'classifier.weight']\n",
      "You should probably TRAIN this model on a down-stream task to be able to use it for predictions and inference.\n"
     ]
    }
   ],
   "source": [
    "tokenizer = BertTokenizer.from_pretrained('bert-base-uncased') \n",
    "model = BertForTokenClassification.from_pretrained('bert-base-uncased', num_labels=num_labels)"
   ]
  },
  {
   "cell_type": "markdown",
   "metadata": {},
   "source": [
    "### Define batch_size"
   ]
  },
  {
   "cell_type": "code",
   "execution_count": 46,
   "metadata": {},
   "outputs": [],
   "source": [
    "batch_size = 32"
   ]
  },
  {
   "cell_type": "markdown",
   "metadata": {},
   "source": [
    "### Define learning rate"
   ]
  },
  {
   "cell_type": "code",
   "execution_count": 47,
   "metadata": {},
   "outputs": [],
   "source": [
    "learning_rate = 5e-5"
   ]
  },
  {
   "cell_type": "markdown",
   "metadata": {},
   "source": [
    "### Convert CSV Dataset to train_dataset_sample"
   ]
  },
  {
   "cell_type": "code",
   "execution_count": 48,
   "metadata": {},
   "outputs": [
    {
     "name": "stdout",
     "output_type": "stream",
     "text": [
      "[{'text': 'Mount Everest is the highest mountain in the world located in the Himalayas', 'labels': {'entities': [(0, 13, 'MOUNTAIN')]}}, {'text': 'Kilimanjaro is known for its snow-capped peak despite being near the equator', 'labels': {'entities': [(0, 11, 'MOUNTAIN')]}}, {'text': 'The Andes stretch along the western coast of South America creating a dramatic landscape', 'labels': {'entities': [(0, 9, 'MOUNTAIN')]}}, {'text': 'Mount Fuji is a symbol of Japan and one of the most photographed mountains', 'labels': {'entities': [(0, 10, 'MOUNTAIN')]}}, {'text': 'K2 is notorious for its difficulty and deadly reputation among mountaineers', 'labels': {'entities': [(0, 2, 'MOUNTAIN')]}}, {'text': 'Denali in Alaska offers stunning views and is the tallest peak in North America', 'labels': {'entities': [(0, 6, 'MOUNTAIN')]}}, {'text': 'The Matterhorn is famous for its pyramid shape and attracts climbers from around the world', 'labels': {'entities': [(0, 14, 'MOUNTAIN')]}}, {'text': 'Mount Elbrus located in Russia is the highest mountain in Europe', 'labels': {'entities': [(0, 12, 'MOUNTAIN')]}}, {'text': 'The Rocky Mountains offer scenic beauty and are a popular destination for outdoor activities in North America', 'labels': {'entities': [(0, 19, 'MOUNTAIN')]}}, {'text': 'The Alps are home to picturesque villages and world-class ski resorts', 'labels': {'entities': [(0, 8, 'MOUNTAIN')]}}, {'text': 'Aconcagua the tallest mountain in South America is a magnet for serious climbers', 'labels': {'entities': [(0, 9, 'MOUNTAIN')]}}, {'text': 'Mont Blanc straddles the border between France and Italy and is a popular mountaineering spot', 'labels': {'entities': [(0, 10, 'MOUNTAIN')]}}, {'text': 'The Pyrenees form a natural border between France and Spain and are known for their rugged beauty', 'labels': {'entities': [(0, 12, 'MOUNTAIN')]}}, {'text': 'Mount Ararat in Turkey is believed by some to be the resting place of Noahs Ark', 'labels': {'entities': [(0, 12, 'MOUNTAIN')]}}, {'text': 'The Sierra Nevada range in California includes the famous Yosemite National Park', 'labels': {'entities': [(0, 17, 'MOUNTAIN')]}}, {'text': 'Mount Kenya is Africas second-highest mountain and offers challenging trekking routes', 'labels': {'entities': [(0, 11, 'MOUNTAIN')]}}, {'text': 'Mount Kosciuszko is the highest point in Australia and a popular hiking destination', 'labels': {'entities': [(0, 16, 'MOUNTAIN')]}}, {'text': 'The Dolomites in Italy are known for their jagged peaks and stunning landscapes', 'labels': {'entities': [(0, 13, 'MOUNTAIN')]}}, {'text': 'Mount Rainier dominates the skyline near Seattle and is one of the most glaciated peaks in the United States', 'labels': {'entities': [(0, 13, 'MOUNTAIN')]}}, {'text': 'The Drakensberg Mountains in South Africa are famous for their dramatic cliffs and lush valleys', 'labels': {'entities': [(0, 25, 'MOUNTAIN')]}}, {'text': 'Mount St. Helens erupted in 1980 dramatically altering the landscape of Washington state', 'labels': {'entities': [(0, 16, 'MOUNTAIN')]}}, {'text': 'The Hindu Kush mountains are known for their harsh terrain and high altitudes in Central Asia', 'labels': {'entities': [(0, 14, 'MOUNTAIN')]}}, {'text': 'Mount Olympus in Greece is steeped in mythology as the home of the ancient Greek gods', 'labels': {'entities': [(0, 13, 'MOUNTAIN')]}}, {'text': 'Mount Cook also known as Aoraki is the tallest mountain in New Zealand', 'labels': {'entities': [(0, 10, 'MOUNTAIN')]}}, {'text': 'The Atlas Mountains run across North Africa and are home to diverse cultures and landscapes', 'labels': {'entities': [(0, 19, 'MOUNTAIN')]}}, {'text': 'Mount Shasta in California is revered for its spiritual significance and towering presence', 'labels': {'entities': [(0, 12, 'MOUNTAIN')]}}, {'text': 'The Ural Mountains stretch through Russia and serve as the natural boundary between Europe and Asia', 'labels': {'entities': [(0, 18, 'MOUNTAIN')]}}, {'text': 'The Blue Mountains in Australia are known for their stunning blue-hued eucalyptus forests', 'labels': {'entities': [(0, 18, 'MOUNTAIN')]}}, {'text': 'Mount Hood in Oregon is a popular spot for skiing and snowboarding', 'labels': {'entities': [(0, 10, 'MOUNTAIN')]}}, {'text': 'The Caucasus Mountains in Eastern Europe are home to Mount Elbrus the continents highest peak', 'labels': {'entities': [(0, 22, 'MOUNTAIN'), (53, 65, 'MOUNTAIN')]}}, {'text': 'The Karakoram Range which includes K2 is one of the most rugged and remote mountain ranges in the world', 'labels': {'entities': [(0, 19, 'MOUNTAIN'), (35, 37, 'MOUNTAIN')]}}, {'text': 'Mauna Kea in Hawaii if measured from its oceanic base is the tallest mountain on Earth', 'labels': {'entities': [(0, 9, 'MOUNTAIN')]}}, {'text': 'The Alborz Mountains in Iran are home to Mount Damavand the countrys highest peak', 'labels': {'entities': [(0, 20, 'MOUNTAIN'), (41, 55, 'MOUNTAIN')]}}, {'text': 'The Sierra Madre in Mexico is a vast mountain range with diverse ecosystems', 'labels': {'entities': [(0, 16, 'MOUNTAIN')]}}, {'text': 'Mount McKinley now called Denali is revered by Alaskas indigenous peoples', 'labels': {'entities': [(0, 14, 'MOUNTAIN'), (26, 32, 'MOUNTAIN')]}}, {'text': 'The Brooks Range in Alaska is one of the most remote and untouched wilderness areas in the United States', 'labels': {'entities': [(0, 16, 'MOUNTAIN')]}}, {'text': 'The Carpathian Mountains stretch across Central and Eastern Europe harboring rich biodiversity', 'labels': {'entities': [(0, 24, 'MOUNTAIN')]}}, {'text': 'Mount Aso in Japan is one of the worlds largest active volcanoes', 'labels': {'entities': [(0, 9, 'MOUNTAIN')]}}, {'text': 'The Western Ghats in India are a UNESCO World Heritage Site known for their biodiversity', 'labels': {'entities': [(0, 17, 'MOUNTAIN')]}}, {'text': 'Mount Washington in New Hampshire is famous for having some of the most extreme weather conditions on Earth', 'labels': {'entities': [(0, 16, 'MOUNTAIN')]}}, {'text': 'Mount Sinai in Egypt holds religious significance as the place where Moses received the Ten Commandments', 'labels': {'entities': [(0, 11, 'MOUNTAIN')]}}, {'text': 'The Jura Mountains in Switzerland are known for their lush forests and limestone cliffs', 'labels': {'entities': [(0, 18, 'MOUNTAIN')]}}, {'text': 'Mount Baker in Washington state is one of the snowiest places on the planet', 'labels': {'entities': [(0, 11, 'MOUNTAIN')]}}, {'text': 'The Rwenzori Mountains in Uganda are often referred to as the Mountains of the Moon', 'labels': {'entities': [(0, 22, 'MOUNTAIN')]}}, {'text': 'The San Juan Mountains in Colorado are famous for their rugged terrain and beautiful wildflower meadows', 'labels': {'entities': [(0, 22, 'MOUNTAIN')]}}, {'text': 'Mount Whitney the tallest peak in the contiguous United States offers challenging hikes in Californias Sierra Nevada', 'labels': {'entities': [(0, 13, 'MOUNTAIN')]}}, {'text': 'The White Mountains in New Hampshire are renowned for their stunning autumn foliage', 'labels': {'entities': [(0, 19, 'MOUNTAIN')]}}, {'text': 'Mount Meru in Tanzania is an often-overlooked climb next to the more famous Kilimanjaro', 'labels': {'entities': [(0, 10, 'MOUNTAIN'), (76, 87, 'MOUNTAIN')]}}, {'text': 'The Pindus Mountains in Greece offer dramatic landscapes and ancient monasteries', 'labels': {'entities': [(0, 20, 'MOUNTAIN')]}}, {'text': 'Mount Toubkal the highest peak in North Africa rises dramatically above the Atlas Mountains', 'labels': {'entities': [(0, 13, 'MOUNTAIN')]}}, {'text': 'The Tatras Mountains located between Poland and Slovakia are known for their alpine beauty and steep peaks', 'labels': {'entities': [(0, 20, 'MOUNTAIN')]}}, {'text': 'Mount Tambora in Indonesia is famous for its 1815 eruption which caused global climate anomalies', 'labels': {'entities': [(0, 13, 'MOUNTAIN')]}}, {'text': 'The Scandinavian Mountains stretch through Norway and Sweden creating stunning fjords and glaciers', 'labels': {'entities': [(0, 26, 'MOUNTAIN')]}}, {'text': 'Mount Vesuvius near Naples is one of the worlds most famous active volcanoes known for destroying Pompeii', 'labels': {'entities': [(0, 14, 'MOUNTAIN')]}}, {'text': 'The Vosges Mountains in France are known for their dense forests and peaceful hiking trails', 'labels': {'entities': [(0, 20, 'MOUNTAIN')]}}, {'text': 'Mount Erebus in Antarctica is one of the southernmost active volcanoes on Earth', 'labels': {'entities': [(0, 12, 'MOUNTAIN')]}}, {'text': 'The Taurus Mountains in Turkey are a rugged range that has been home to many ancient civilizations', 'labels': {'entities': [(0, 20, 'MOUNTAIN')]}}, {'text': 'Mount Agung in Bali is a sacred volcano that regularly erupts', 'labels': {'entities': [(0, 11, 'MOUNTAIN')]}}, {'text': 'The Rhodope Mountains in Bulgaria are known for their picturesque landscapes and rich folklore', 'labels': {'entities': [(0, 21, 'MOUNTAIN')]}}, {'text': 'The Khangchendzonga Range in India is home to the worlds third-highest peak Kangchenjunga', 'labels': {'entities': [(0, 25, 'MOUNTAIN')]}}, {'text': 'The Grampian Mountains in Scotland include Ben Nevis the highest point in the British Isles', 'labels': {'entities': [(0, 22, 'MOUNTAIN')]}}, {'text': 'Mount Cameroon is an active volcano and the highest peak in West Africa', 'labels': {'entities': [(0, 14, 'MOUNTAIN')]}}, {'text': 'The Pennine Alps straddle the border between Switzerland and Italy offering incredible views', 'labels': {'entities': [(0, 16, 'MOUNTAIN')]}}, {'text': 'The Jotunheimen Mountains in Norway are home to some of the countrys tallest peaks', 'labels': {'entities': [(0, 25, 'MOUNTAIN')]}}, {'text': 'The Adirondack Mountains in New York are famous for their stunning fall foliage', 'labels': {'entities': [(0, 24, 'MOUNTAIN')]}}, {'text': 'Mount Pico located on the Azores islands is Portugals highest mountain', 'labels': {'entities': [(0, 10, 'MOUNTAIN')]}}, {'text': 'The Great Dividing Range runs along Australias east coast separating the coastal regions from the outback', 'labels': {'entities': [(0, 24, 'MOUNTAIN')]}}, {'text': 'Mount Rinjani in Indonesia is a popular trekking destination with an active volcano', 'labels': {'entities': [(0, 13, 'MOUNTAIN')]}}, {'text': 'The Dinaric Alps in the Balkans are known for their karst landscapes and crystal-clear rivers', 'labels': {'entities': [(0, 16, 'MOUNTAIN')]}}, {'text': 'Mount Pelée in Martinique is famous for its deadly 1902 eruption', 'labels': {'entities': [(0, 11, 'MOUNTAIN')]}}, {'text': 'The Pamirs in Central Asia are known as the Roof of the World for their high plateaus and towering peaks', 'labels': {'entities': [(0, 10, 'MOUNTAIN')]}}, {'text': 'The Apennines run down the spine of Italy offering stunning views and rich history', 'labels': {'entities': [(0, 13, 'MOUNTAIN')]}}, {'text': 'Mount Hermon on the border between Syria and Lebanon is often snow-capped and serves as a ski resort', 'labels': {'entities': [(0, 12, 'MOUNTAIN')]}}, {'text': 'The Drakensberg Mountains are a UNESCO World Heritage Site and provide incredible hiking opportunities in South Africa', 'labels': {'entities': [(0, 25, 'MOUNTAIN')]}}, {'text': 'The Harz Mountains in Germany are steeped in history and folklore with dense forests covering the landscape', 'labels': {'entities': [(0, 18, 'MOUNTAIN')]}}, {'text': 'Mount Athos in Greece is a monastic community and sacred place accessible only to men', 'labels': {'entities': [(0, 11, 'MOUNTAIN')]}}, {'text': 'Mount Nimba spanning the borders of Guinea Liberia and Côte dIvoire is a biodiversity hotspot', 'labels': {'entities': [(0, 11, 'MOUNTAIN')]}}, {'text': 'The Zagros Mountains in Iran are home to ancient settlements and provide breathtaking landscapes', 'labels': {'entities': [(0, 20, 'MOUNTAIN')]}}, {'text': 'The Pennines in England are often called the Backbone of England and offer rolling hills and moorlands', 'labels': {'entities': [(0, 12, 'MOUNTAIN')]}}, {'text': 'Mount Vinson is the highest point in Antarctica and one of the most remote places on Earth', 'labels': {'entities': [(0, 12, 'MOUNTAIN')]}}, {'text': 'The Hindu Kush mountains running through Afghanistan are known for their harsh terrain and stunning beauty', 'labels': {'entities': [(0, 14, 'MOUNTAIN')]}}, {'text': 'The Aïr Mountains in Niger rise dramatically out of the Sahara Desert', 'labels': {'entities': [(0, 17, 'MOUNTAIN')]}}, {'text': 'Mount Parnassus in Greece is rich in history and mythology once sacred to the god Apollo', 'labels': {'entities': [(0, 15, 'MOUNTAIN')]}}, {'text': 'The Balkan Mountains stretch across Bulgaria offering picturesque views and ancient fortresses', 'labels': {'entities': [(0, 20, 'MOUNTAIN')]}}, {'text': 'Mount Huascarán in Peru is the highest peak in the tropical Andes', 'labels': {'entities': [(0, 15, 'MOUNTAIN')]}}, {'text': 'The Saint Elias Mountains straddling Alaska and Canada are known for their glaciers and rugged terrain', 'labels': {'entities': [(0, 25, 'MOUNTAIN')]}}, {'text': 'The Tien Shan range in Central Asia contains some of the worlds largest glaciers', 'labels': {'entities': []}}, {'text': 'Mount Ararat is the tallest peak in Turkey and holds deep significance in both history and mythology', 'labels': {'entities': [(0, 12, 'MOUNTAIN')]}}, {'text': 'Mount Damavand in Iran is a potentially active volcano and the highest peak in the Middle East', 'labels': {'entities': [(0, 14, 'MOUNTAIN')]}}, {'text': 'Mount Kinabalu in Malaysia is the tallest mountain in Southeast Asia and a UNESCO World Heritage Site', 'labels': {'entities': [(0, 14, 'MOUNTAIN')]}}, {'text': 'The Tatra Mountains form the natural border between Poland and Slovakia known for their steep cliffs and deep valleys', 'labels': {'entities': [(0, 19, 'MOUNTAIN')]}}, {'text': 'Mount Kailash in Tibet is considered sacred by Hindus Buddhists and Jains alike', 'labels': {'entities': [(0, 13, 'MOUNTAIN')]}}, {'text': 'Mount Shasta is one of California’s most prominent peaks believed by some to be a mystical energy center', 'labels': {'entities': [(0, 12, 'MOUNTAIN')]}}, {'text': 'Mount Olympus in Cyprus although not as tall as its Greek counterpart offers scenic views of the island', 'labels': {'entities': [(0, 13, 'MOUNTAIN')]}}, {'text': 'The Picos de Europa in northern Spain are known for their jagged limestone peaks', 'labels': {'entities': [(0, 19, 'MOUNTAIN')]}}, {'text': 'Mount Etna in Sicily is one of the most active volcanoes in the world', 'labels': {'entities': [(0, 10, 'MOUNTAIN')]}}, {'text': 'Mount Aconcagua the highest peak outside of Asia is a challenging climb in Argentinas Andes', 'labels': {'entities': [(0, 15, 'MOUNTAIN')]}}]\n"
     ]
    }
   ],
   "source": [
    "file_path = '../data/labeled_mountain_dataset.csv'\n",
    "df = pd.read_csv(file_path)\n",
    "\n",
    "train_dataset_sample = []\n",
    "current_sentence = []\n",
    "current_entities = []\n",
    "\n",
    "for index, row in df.iterrows():\n",
    "    word = row['Word']\n",
    "    tag = row['Tag']\n",
    "    \n",
    "    if pd.isna(word) or pd.isna(tag):\n",
    "        if current_sentence:\n",
    "            train_dataset_sample.append({\n",
    "                \"text\": \" \".join(current_sentence),\n",
    "                \"labels\": {\"entities\": current_entities}\n",
    "            })\n",
    "            current_sentence = []\n",
    "            current_entities = []\n",
    "    else:\n",
    "        current_sentence.append(word)\n",
    "        \n",
    "        complete_sentence = \" \".join(current_sentence)\n",
    "        \n",
    "        start_pos = len(complete_sentence) - len(word)\n",
    "        end_pos = len(complete_sentence)\n",
    "        \n",
    "        if tag == \"B-MOUNTAIN\":\n",
    "            current_entities.append((start_pos, end_pos, \"MOUNTAIN\"))\n",
    "        elif tag == \"I-MOUNTAIN\" and current_entities:\n",
    "            last_entity = current_entities[-1]\n",
    "            current_entities[-1] = (last_entity[0], end_pos, last_entity[2])\n",
    "\n",
    "if current_sentence:\n",
    "    train_dataset_sample.append({\n",
    "        \"text\": \" \".join(current_sentence),\n",
    "        \"labels\": {\"entities\": current_entities}\n",
    "    })\n",
    "\n",
    "print(train_dataset_sample)\n"
   ]
  },
  {
   "cell_type": "markdown",
   "metadata": {},
   "source": [
    "### Tokenize and format data"
   ]
  },
  {
   "cell_type": "code",
   "execution_count": 67,
   "metadata": {},
   "outputs": [],
   "source": [
    "def tokenize_and_format_data(dataset, tokenizer):\n",
    "    tokenized_data = []\n",
    "    for sample in dataset:\n",
    "        text = sample[\"text\"]\n",
    "        entities = sample[\"labels\"][\"entities\"]\n",
    "\n",
    "        # Tokenize the input text using the BERT tokenizer\n",
    "        tokens = tokenizer.tokenize(tokenizer.decode(tokenizer.encode(text)))\n",
    "        # Initialize labels for each token as 'O' (Outside)\n",
    "        labels = ['O'] * len(tokens)\n",
    "\n",
    "        # Update labels for entity spans\n",
    "        for start, end, entity_type in entities:\n",
    "            # Tokenize the prefix to get the correct offset\n",
    "            prefix_tokens = tokenizer.tokenize(tokenizer.decode(tokenizer.encode(text[:start])))\n",
    "            start_token = len(prefix_tokens)\n",
    "\n",
    "            # Tokenize the entity to get its length\n",
    "            entity_tokens = tokenizer.tokenize(tokenizer.decode(tokenizer.encode(text[start:end])))\n",
    "            end_token = start_token + len(entity_tokens) - 1\n",
    "\n",
    "            # Check if start_token and end_token are within bounds\n",
    "            if start_token < len(labels):\n",
    "                labels[start_token] = \"B-MOUNTAIN\"\n",
    "            else:\n",
    "                print(f\"Warning: start_token {start_token} is out of range for text: '{text}'\")\n",
    "                continue\n",
    "\n",
    "            # Ensure end_token does not exceed the length of labels\n",
    "            for i in range(start_token + 1, min(end_token + 1, len(labels))):\n",
    "                labels[i] = \"I-MOUNTAIN\"\n",
    "\n",
    "        # Convert tokens and labels to input IDs and label IDs\n",
    "        input_ids = tokenizer.convert_tokens_to_ids(tokens)\n",
    "        label_ids = [entity_types.index(label) for label in labels]\n",
    "\n",
    "        # Pad input_ids and label_ids to the maximum sequence length\n",
    "        padding_length = tokenizer.model_max_length - len(input_ids)\n",
    "        input_ids += [tokenizer.pad_token_id] * padding_length\n",
    "        label_ids += [entity_types.index('O')] * padding_length\n",
    "\n",
    "        tokenized_data.append({\n",
    "            'input_ids': input_ids,\n",
    "            'labels': label_ids\n",
    "        })\n",
    "\n",
    "    # Convert tokenized data to PyTorch dataset\n",
    "    dataset = TensorDataset(\n",
    "        torch.tensor([item['input_ids'] for item in tokenized_data]),\n",
    "        torch.tensor([item['labels'] for item in tokenized_data])\n",
    "    )\n",
    "    return dataset"
   ]
  },
  {
   "cell_type": "markdown",
   "metadata": {},
   "source": [
    "### Prepare data for fine-tuning"
   ]
  },
  {
   "cell_type": "code",
   "execution_count": 68,
   "metadata": {},
   "outputs": [],
   "source": [
    "train_data = tokenize_and_format_data(train_dataset_sample, tokenizer)\n",
    "train_dataloader = DataLoader(train_data, batch_size=batch_size)"
   ]
  },
  {
   "cell_type": "code",
   "execution_count": null,
   "metadata": {},
   "outputs": [],
   "source": []
  },
  {
   "cell_type": "markdown",
   "metadata": {},
   "source": [
    "### Fine-tune the model"
   ]
  },
  {
   "cell_type": "code",
   "execution_count": 69,
   "metadata": {},
   "outputs": [
    {
     "name": "stderr",
     "output_type": "stream",
     "text": [
      "/Library/Frameworks/Python.framework/Versions/3.12/lib/python3.12/site-packages/transformers/optimization.py:591: FutureWarning: This implementation of AdamW is deprecated and will be removed in a future version. Use the PyTorch implementation torch.optim.AdamW instead, or set `no_deprecation_warning=True` to disable this warning\n",
      "  warnings.warn(\n",
      "Training:   0%|          | 0/4 [00:00<?, ?it/s]We strongly recommend passing in an `attention_mask` since your input_ids may be padded. See https://huggingface.co/docs/transformers/troubleshooting#incorrect-output-when-padding-tokens-arent-masked.\n",
      "Training: 100%|██████████| 4/4 [07:46<00:00, 116.61s/it]\n",
      "Training: 100%|██████████| 4/4 [07:01<00:00, 105.50s/it]\n",
      "Training: 100%|██████████| 4/4 [06:38<00:00, 99.54s/it] \n",
      "Training: 100%|██████████| 4/4 [06:46<00:00, 101.71s/it]\n",
      "Training: 100%|██████████| 4/4 [06:57<00:00, 104.45s/it]\n",
      "Training: 100%|██████████| 4/4 [06:44<00:00, 101.23s/it]\n",
      "Training: 100%|██████████| 4/4 [06:49<00:00, 102.45s/it]\n",
      "Training: 100%|██████████| 4/4 [07:09<00:00, 107.28s/it]\n",
      "Training: 100%|██████████| 4/4 [06:50<00:00, 102.66s/it]\n",
      "Training: 100%|██████████| 4/4 [06:57<00:00, 104.29s/it]\n",
      "Training: 100%|██████████| 4/4 [06:46<00:00, 101.61s/it]\n",
      "Training: 100%|██████████| 4/4 [06:45<00:00, 101.29s/it]\n",
      "Training: 100%|██████████| 4/4 [06:49<00:00, 102.34s/it]\n",
      "Training: 100%|██████████| 4/4 [06:42<00:00, 100.62s/it]\n",
      "Training: 100%|██████████| 4/4 [06:47<00:00, 101.89s/it]\n"
     ]
    }
   ],
   "source": [
    "optimizer = AdamW(model.parameters(), lr=learning_rate)\n",
    "num_epochs = 15 \n",
    "\n",
    "for epoch in range(num_epochs):\n",
    "    model.train()\n",
    "    for batch in tqdm(train_dataloader, desc=\"Training\"):\n",
    "        inputs, labels = batch\n",
    "        # Unpack the tuple\n",
    "        outputs = model(inputs, labels=labels)\n",
    "        loss = outputs.loss\n",
    "        loss.backward()\n",
    "        optimizer.step()\n",
    "        optimizer.zero_grad()"
   ]
  },
  {
   "cell_type": "markdown",
   "metadata": {},
   "source": [
    "### Save the fine-tuned model for later use"
   ]
  },
  {
   "cell_type": "code",
   "execution_count": 70,
   "metadata": {},
   "outputs": [],
   "source": [
    "model.save_pretrained('fine_tuned_ner_model')"
   ]
  },
  {
   "cell_type": "markdown",
   "metadata": {},
   "source": [
    "### Inference"
   ]
  },
  {
   "cell_type": "code",
   "execution_count": 75,
   "metadata": {},
   "outputs": [
    {
     "name": "stdout",
     "output_type": "stream",
     "text": [
      "the: I-MOUNTAIN\n",
      "located: B-MOUNTAIN\n",
      "known: I-MOUNTAIN\n",
      "creating: B-MOUNTAIN\n"
     ]
    }
   ],
   "source": [
    "# Load the fine-tuned model and tokenizer\n",
    "model = BertForTokenClassification.from_pretrained('fine_tuned_ner_model')\n",
    "tokenizer = BertTokenizer.from_pretrained('bert-base-uncased')\n",
    "\n",
    "# Function to perform inference\n",
    "def infer_entities(text):\n",
    "    # Tokenize the input text\n",
    "    tokens = tokenizer(text, return_tensors=\"pt\", truncation=True, padding=True, max_length=tokenizer.model_max_length)\n",
    "    \n",
    "    # Ensure the model is in evaluation mode\n",
    "    model.eval()\n",
    "\n",
    "    with torch.no_grad():\n",
    "        # Get the predictions\n",
    "        outputs = model(**tokens)\n",
    "        logits = outputs.logits\n",
    "\n",
    "    # Get the predicted labels\n",
    "    predicted_ids = torch.argmax(logits, dim=2)\n",
    "\n",
    "    # Convert predicted IDs to labels\n",
    "    predicted_labels = [entity_types[id.item()] for id in predicted_ids[0]]\n",
    "\n",
    "    # Post-process to get the tokens with their corresponding labels\n",
    "    tokenized_text = tokenizer.tokenize(text)\n",
    "    result = []\n",
    "\n",
    "    for token, label in zip(tokenized_text, predicted_labels):\n",
    "        result.append((token, label))\n",
    "\n",
    "    return result\n",
    "\n",
    "# Example usage\n",
    "text_to_infer =  \"Mount Everest is the highest mountain in the world, located in the Himalayas Kilimanjaro is known for its snow-capped peak despite being near the equator The Andes stretch along the western coast of South America, creating a dramatic landscape Mount Fuji is a symbol of Japan and one of the most photographed mountains\"\n",
    "predicted_entities = infer_entities(text_to_infer)\n",
    "\n",
    "# Display the results\n",
    "for token, label in predicted_entities:\n",
    "    if label != \"O\":\n",
    "        print(f\"{token}: {label}\")"
   ]
  }
 ],
 "metadata": {
  "kernelspec": {
   "display_name": "Python 3",
   "language": "python",
   "name": "python3"
  },
  "language_info": {
   "codemirror_mode": {
    "name": "ipython",
    "version": 3
   },
   "file_extension": ".py",
   "mimetype": "text/x-python",
   "name": "python",
   "nbconvert_exporter": "python",
   "pygments_lexer": "ipython3",
   "version": "3.12.3"
  }
 },
 "nbformat": 4,
 "nbformat_minor": 2
}
